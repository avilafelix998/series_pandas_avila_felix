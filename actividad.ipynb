{
 "cells": [
  {
   "cell_type": "markdown",
   "id": "498731c6",
   "metadata": {},
   "source": [
    "# Actividad - Trabajando con Series de Pandas.\n",
    "## Criterios de evaluación.\n",
    "\n",
    "* Se deben utilizar nombres de variables descriptivos y claros (Utilizar la nomeclatura correspondiente para los nombres de variables).\n",
    "* Comentarios claros y concisos que expliquen el propósito de cada sección del código.\n",
    "* Utilizar mensajes de commit **descriptivos**. (Puedes utilizar la extension CONVENTIONAL COMMIT de VS-CODE). \n",
    "* Entrega en tiempo y forma.\n",
    "* Todo el código desarrollado debe ser subido a un repositorio en GitHub (el nombre del repositorio de seguir la siguiente estructura: actividad_tlp3_nombre_apellido).\n",
    "* Para resolver las actividades se debe insertar casillas de codigo entre cada actividad del cuaderno de Jupyter\n",
    "\n",
    "### ¡Importante!\n",
    "**El incumplimiento de los criterios de evaluación restará puntos en la nota final del práctico!**"
   ]
  },
  {
   "cell_type": "markdown",
   "id": "b361a7b6",
   "metadata": {},
   "source": [
    "### **Actividad 1:** \n",
    "\n",
    "Crear Series desde diferentes estructuras.\n",
    "* Crea una Series con los números del 1 al 5\n",
    "* Crea una Series a partir de un diccionario con nombres de países como claves y sus capitales como valores."
   ]
  },
  {
   "cell_type": "code",
   "execution_count": 26,
   "id": "26009294",
   "metadata": {},
   "outputs": [
    {
     "name": "stdout",
     "output_type": "stream",
     "text": [
      "0    1\n",
      "1    2\n",
      "2    3\n",
      "3    4\n",
      "4    5\n",
      "dtype: int64\n",
      "Perú          lima\n",
      "Colombia    Bogotá\n",
      "Bolivia      Sucre\n",
      "dtype: object\n"
     ]
    }
   ],
   "source": [
    "\n",
    "# todo:\n",
    "import pandas as pd\n",
    "#diccionario de los países y sus capitales\n",
    "d = {'Perú' : 'lima' ,'Colombia' : 'Bogotá' ,'Bolivia' : 'Sucre'}\n",
    "#serie de números\n",
    "s = pd.Series([1, 2, 3, 4, 5])\n",
    "print(s)\n",
    "capitales = pd.Series(d)\n",
    "print(capitales)"
   ]
  },
  {
   "cell_type": "markdown",
   "id": "0c239195",
   "metadata": {},
   "source": [
    "### **Actividad 2:** \n",
    "Acceso y selección de elementos.\n",
    "* Usa una Series con tareas (que haceres cotidianos) de una semana\n",
    "* Accede a diferentes elementos a elección.\n",
    "* Cambia los valores de los dias pares.\n"
   ]
  },
  {
   "cell_type": "code",
   "execution_count": 27,
   "id": "3611d25a",
   "metadata": {},
   "outputs": [
    {
     "name": "stdout",
     "output_type": "stream",
     "text": [
      "cocinar\n",
      "1            limpiar\n",
      "2              comer\n",
      "3    sacar la basura\n",
      "dtype: object\n"
     ]
    }
   ],
   "source": [
    "\n",
    "# todo:\n",
    "#serie de tareas cotidianas\n",
    "tareas = pd.Series(['limpiar','cocinar','sacar la basura'], index= [1,2,3])\n",
    "print(tareas[2])\n",
    "#tomo el indice dos y cambio su valor por otro\n",
    "tareas.loc[2] = 'comer'\n",
    "print(tareas)"
   ]
  },
  {
   "cell_type": "markdown",
   "id": "70a24b97",
   "metadata": {},
   "source": [
    "### **Actividad 3:**\n",
    "Operaciones aritméticas. \n",
    "* Realiza las operaciones basicas con 2 series cuales quieran.\n",
    "* Eleva los valores de la primer serie a 3 potencias difetentes."
   ]
  },
  {
   "cell_type": "code",
   "execution_count": 28,
   "id": "a9c8ebc7",
   "metadata": {},
   "outputs": [
    {
     "name": "stdout",
     "output_type": "stream",
     "text": [
      "0    2\n",
      "1    4\n",
      "2    6\n",
      "3    8\n",
      "dtype: int64\n",
      "0    10\n",
      "1    12\n",
      "2    14\n",
      "3    16\n",
      "dtype: int64\n",
      "esta es la suma: 0    12\n",
      "1    16\n",
      "2    20\n",
      "3    24\n",
      "dtype: int64\n",
      "esta es la resta: 0   -8\n",
      "1   -8\n",
      "2   -8\n",
      "3   -8\n",
      "dtype: int64\n",
      "esta es la multiplicacion 0     20\n",
      "1     48\n",
      "2     84\n",
      "3    128\n",
      "dtype: int64\n",
      "esta es la division: 0    0.200000\n",
      "1    0.333333\n",
      "2    0.428571\n",
      "3    0.500000\n",
      "dtype: float64\n"
     ]
    }
   ],
   "source": [
    "\n",
    "# todo:\n",
    "#primer serie\n",
    "primer_serie = pd.Series([2,4,6,8])\n",
    "print(primer_serie)\n",
    "#segunda serie\n",
    "segunda_serie = pd.Series([10,12,14,16])\n",
    "print(segunda_serie)\n",
    "#operaciones basicas \n",
    "suma = primer_serie + segunda_serie\n",
    "resta = primer_serie - segunda_serie\n",
    "multiplicación = primer_serie * segunda_serie\n",
    "division = primer_serie / segunda_serie\n",
    "print(f'esta es la suma: {suma}')\n",
    "print(f'esta es la resta: {resta}')\n",
    "print(f'esta es la multiplicacion {multiplicación}')\n",
    "print(f'esta es la division: {division}')\n"
   ]
  },
  {
   "cell_type": "markdown",
   "id": "b8dac397",
   "metadata": {},
   "source": [
    "### **Actividad 4:** \n",
    "Filtrado con condiciones.\n",
    "* Crea una Series de edades de 10 personas.\n",
    "* Muestra solo a los mayores de 18.\n",
    "* Reemplaza a los menores por \"Menor de edad\"."
   ]
  },
  {
   "cell_type": "code",
   "execution_count": 29,
   "id": "d04fd492",
   "metadata": {},
   "outputs": [
    {
     "name": "stdout",
     "output_type": "stream",
     "text": [
      "Mayores de 18:\n",
      "1    25\n",
      "3    19\n",
      "4    34\n",
      "6    22\n",
      "9    30\n",
      "dtype: int64\n",
      " edades nuevas:\n",
      "0               12\n",
      "1    menor de edad\n",
      "2               17\n",
      "3    menor de edad\n",
      "4    menor de edad\n",
      "5               15\n",
      "6    menor de edad\n",
      "7    menor de edad\n",
      "8               16\n",
      "9    menor de edad\n",
      "dtype: object\n"
     ]
    },
    {
     "name": "stderr",
     "output_type": "stream",
     "text": [
      "C:\\Users\\IPF-2025\\AppData\\Local\\Temp\\ipykernel_17780\\1410610435.py:11: FutureWarning: Setting an item of incompatible dtype is deprecated and will raise an error in a future version of pandas. Value 'menor de edad' has dtype incompatible with int64, please explicitly cast to a compatible dtype first.\n",
      "  menores = edades[edades >= 18] = \"menor de edad\"\n"
     ]
    }
   ],
   "source": [
    "\n",
    "# todo:\n",
    "# series de edades\n",
    "edades = pd.Series([12, 25, 17, 19, 34, 15, 22, 18, 16, 30])\n",
    "\n",
    "#filtrar mayores de 18\n",
    "mayores = edades[edades > 18]\n",
    "print(\"Mayores de 18:\")\n",
    "print(mayores)\n",
    "\n",
    "#reemplazar menores de edad\n",
    "menores = edades[edades >= 18] = \"menor de edad\"\n",
    "print(\" edades nuevas:\")\n",
    "print(edades)"
   ]
  },
  {
   "cell_type": "markdown",
   "id": "8889d0f2",
   "metadata": {},
   "source": [
    "### Actividad 5:\n",
    "Estadísticas básicas.\n",
    "\n",
    "* Crea una Series con las notas de 10 estudiantes.\n",
    "* Calcula la media, mediana, desviación estándar y máximo.\n",
    "* Muestra cuántos estudiantes aprobaron si el mínimo para aprobar es 6.\n",
    "* Ordenar las notas de manera ascendente y descendente. "
   ]
  },
  {
   "cell_type": "code",
   "execution_count": 30,
   "id": "bc0ec844",
   "metadata": {},
   "outputs": [
    {
     "name": "stdout",
     "output_type": "stream",
     "text": [
      "Cantidad de estudiantes aprobados: 7\n",
      "notas ordenadas de manera ascendente:\n",
      "7     3\n",
      "5     4\n",
      "0     5\n",
      "2     6\n",
      "8     6\n",
      "3     7\n",
      "9     8\n",
      "1     8\n",
      "4     9\n",
      "6    10\n",
      "dtype: int64\n",
      "notas ordenadas de manera descendente:\n",
      "6    10\n",
      "4     9\n",
      "9     8\n",
      "1     8\n",
      "3     7\n",
      "8     6\n",
      "2     6\n",
      "0     5\n",
      "5     4\n",
      "7     3\n",
      "dtype: int64\n"
     ]
    }
   ],
   "source": [
    "\n",
    "# todo:\n",
    "# serie de notas de estudiantes\n",
    "notas = pd.Series([5, 8, 6, 7, 9, 4, 10, 3, 6, 8])\n",
    "\n",
    "# Calcular las notas de los estudiantes\n",
    "media = notas.mean()\n",
    "mediana = notas.median()\n",
    "desviacion = notas.std()\n",
    "maximo = notas.max()\n",
    "\n",
    "# estudiantes aprovados \n",
    "aprobados = (notas >= 6).sum()\n",
    "print(f\"Cantidad de estudiantes aprobados: {aprobados}\")\n",
    "\n",
    "# Ordenar las notas\n",
    "print(\"notas ordenadas de manera ascendente:\")\n",
    "print(notas.sort_values())\n",
    "\n",
    "print(\"notas ordenadas de manera descendente:\")\n",
    "print(notas.sort_values(ascending=False))"
   ]
  }
 ],
 "metadata": {
  "kernelspec": {
   "display_name": "venv",
   "language": "python",
   "name": "python3"
  },
  "language_info": {
   "codemirror_mode": {
    "name": "ipython",
    "version": 3
   },
   "file_extension": ".py",
   "mimetype": "text/x-python",
   "name": "python",
   "nbconvert_exporter": "python",
   "pygments_lexer": "ipython3",
   "version": "3.13.2"
  }
 },
 "nbformat": 4,
 "nbformat_minor": 5
}
